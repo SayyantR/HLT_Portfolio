{
  "nbformat": 4,
  "nbformat_minor": 0,
  "metadata": {
    "colab": {
      "provenance": []
    },
    "kernelspec": {
      "name": "python3",
      "display_name": "Python 3"
    },
    "language_info": {
      "name": "python"
    },
    "accelerator": "GPU",
    "gpuClass": "standard"
  },
  "cells": [
    {
      "cell_type": "code",
      "execution_count": null,
      "metadata": {
        "id": "5Rk8eko1Clls"
      },
      "outputs": [],
      "source": [
        "import pandas as pd\n",
        "from nltk.corpus import stopwords\n",
        "\n",
        "df = pd.read_csv('./Dataset 11000 Reviews.tsv', sep=\"\\t\")\n",
        "df.columns = [c.replace(' ', '_') for c in df.columns]\n",
        "\n",
        "stopwords = set(stopwords.words('hinglish'))\n",
        "\n",
        "x = df._ab_achanak_khawaja_saad_rafique_ko_khiyaal_aagaya_woh_bhe_peshawar_mai_is_line_pai_10_saal_sai_koi_train_nahe_guzri\n",
        "y = df.neg"
      ]
    },
    {
      "cell_type": "code",
      "source": [
        "from sklearn.model_selection import train_test_split\n",
        "import matplotlib.pyplot as plt\n",
        "\n",
        "X_train, X_test, Y_train, Y_test = train_test_split(x, y, test_size=0.2, train_size=0.8, random_state=1234)\n",
        "\n",
        "plt.hist(Y_train, bins=2)\n",
        "plt.xlabel('Sentiment')\n",
        "plt.ylabel('Number of reviews')\n",
        "plt.xticks(['neg', 'pos'], ['Negative', 'Positive'])\n",
        "plt.show()"
      ],
      "metadata": {
        "colab": {
          "base_uri": "https://localhost:8080/",
          "height": 449
        },
        "id": "gjg1xgQqGZgm",
        "outputId": "aab55a6a-a391-4940-c278-f6a28794b00e"
      },
      "execution_count": null,
      "outputs": [
        {
          "output_type": "display_data",
          "data": {
            "text/plain": [
              "<Figure size 640x480 with 1 Axes>"
            ],
            "image/png": "[encoded data removed]"
          },
          "metadata": {}
        }
      ]
    },
    {
      "cell_type": "code",
      "source": [
        "from sklearn.feature_extraction.text import CountVectorizer, TfidfVectorizer, TfidfTransformer\n",
        "from sklearn.naive_bayes import BernoulliNB\n",
        "from sklearn.linear_model import LogisticRegression\n",
        "from sklearn.neural_network import MLPClassifier\n",
        "from sklearn.pipeline import Pipeline\n",
        "\n",
        "# define the pipeline for Naive Bayes\n",
        "nb_pipeline = Pipeline([\n",
        "    ('vect', TfidfVectorizer(stop_words=list(stopwords), binary=True)),\n",
        "    ('tfidf', TfidfTransformer()),\n",
        "    ('clf', BernoulliNB())\n",
        "])\n",
        "\n",
        "# define the pipeline for Logistic Regression\n",
        "lr_pipeline = Pipeline([\n",
        "    ('vect', TfidfVectorizer(stop_words=list(stopwords), binary=True)),\n",
        "    ('tfidf', TfidfTransformer()),\n",
        "    ('clf', LogisticRegression(solver='lbfgs', class_weight='balanced'))\n",
        "])\n",
        "\n",
        "# define the pipeline for Neural Networks\n",
        "nn_pipeline = Pipeline([\n",
        "    ('vect', TfidfVectorizer(stop_words=list(stopwords), binary=True)),\n",
        "    ('tfidf', TfidfTransformer()),\n",
        "    ('clf', MLPClassifier())\n",
        "])\n",
        "\n",
        "# train the models\n",
        "nb_pipeline.fit(X_train, Y_train)\n",
        "lr_pipeline.fit(X_train, Y_train)\n",
        "nn_pipeline.fit(X_train, Y_train)\n",
        "\n",
        "# evaluate the models\n",
        "nb_accuracy = nb_pipeline.score(X_test, Y_test)\n",
        "lr_accuracy = lr_pipeline.score(X_test, Y_test)\n",
        "nn_accuracy = nn_pipeline.score(X_test, Y_test)\n",
        "\n",
        "print('Naive Bayes accuracy: %.3f' % nb_accuracy)\n",
        "print('Logistic Regression accuracy: %.3f' % lr_accuracy)\n",
        "print('Neural Networks accuracy: %.3f' % nn_accuracy)"
      ],
      "metadata": {
        "colab": {
          "base_uri": "https://localhost:8080/"
        },
        "id": "e8rY27sBH0uv",
        "outputId": "fa89f7a5-b96f-4a30-ef36-8486b94202b2"
      },
      "execution_count": null,
      "outputs": [
        {
          "output_type": "stream",
          "name": "stderr",
          "text": [
            "/usr/local/lib/python3.9/dist-packages/sklearn/feature_extraction/text.py:409: UserWarning: Your stop_words may be inconsistent with your preprocessing. Tokenizing the stop words generated tokens ['don', 'mon'] not in stop_words.\n",
            "  warnings.warn(\n",
            "/usr/local/lib/python3.9/dist-packages/sklearn/feature_extraction/text.py:409: UserWarning: Your stop_words may be inconsistent with your preprocessing. Tokenizing the stop words generated tokens ['don', 'mon'] not in stop_words.\n",
            "  warnings.warn(\n",
            "/usr/local/lib/python3.9/dist-packages/sklearn/feature_extraction/text.py:409: UserWarning: Your stop_words may be inconsistent with your preprocessing. Tokenizing the stop words generated tokens ['don', 'mon'] not in stop_words.\n",
            "  warnings.warn(\n"
          ]
        },
        {
          "output_type": "stream",
          "name": "stdout",
          "text": [
            "Naive Bayes accuracy: 0.675\n",
            "Logistic Regression accuracy: 0.784\n",
            "Neural Networks accuracy: 0.759\n"
          ]
        }
      ]
    }
  ]
}