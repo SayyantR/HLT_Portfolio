{
  "nbformat": 4,
  "nbformat_minor": 0,
  "metadata": {
    "colab": {
      "provenance": []
    },
    "kernelspec": {
      "name": "python3",
      "display_name": "Python 3"
    },
    "language_info": {
      "name": "python"
    }
  },
  "cells": [
    {
      "cell_type": "code",
      "execution_count": null,
      "metadata": {
        "colab": {
          "base_uri": "https://localhost:8080/"
        },
        "id": "uhfTxg39Z5o7",
        "outputId": "1376dc94-841d-4add-c5e0-d47ac2c4f600"
      },
      "outputs": [
        {
          "output_type": "stream",
          "name": "stdout",
          "text": [
            "train data size:  (22241, 2)\n",
            "test data size:  (5561, 2)\n"
          ]
        }
      ],
      "source": [
        "import numpy as np\n",
        "import tensorflow as tf\n",
        "import pandas as pd\n",
        "from tensorflow import keras\n",
        "from tensorflow.keras.layers.experimental.preprocessing import TextVectorization\n",
        "\n",
        "df = pd.read_csv(\"./ecommerceDataset.csv\", header=None)\n",
        "df.columns = ['label', 'text']\n",
        "df.head()\n",
        "\n",
        "df.dropna(inplace=True)\n",
        "df.drop_duplicates(inplace=True)\n",
        "\n",
        "cols = df.select_dtypes(include=['object'])\n",
        "for col in cols.columns.values:\n",
        "    df[col] = df[col].fillna('')\n",
        "\n",
        "df[\"label\"].loc[df[\"label\"]==\"Household\"]=0.0\n",
        "df[\"label\"].loc[df[\"label\"]==\"Books\"]=1.0\n",
        "df[\"label\"].loc[df[\"label\"]==\"Electronics\"]=2.0\n",
        "df[\"label\"].loc[df[\"label\"]==\"Clothing & Accessories\"]=3.0\n",
        "\n",
        "i = np.random.rand(len(df)) < 0.8\n",
        "train = df[i]\n",
        "test = df[~i]\n",
        "print(\"train data size: \", train.shape)\n",
        "print(\"test data size: \", test.shape)\n",
        "\n",
        "vectorizer = TextVectorization(max_tokens=20000, output_sequence_length=200)\n",
        "text_ds = tf.data.Dataset.from_tensor_slices(df.text).batch(128)\n",
        "vectorizer.adapt(text_ds)"
      ]
    },
    {
      "cell_type": "code",
      "source": [
        "voc = vectorizer.get_vocabulary()\n",
        "word_index = dict(zip(voc, range(len(voc))))"
      ],
      "metadata": {
        "id": "MgXlZNg-b_b6"
      },
      "execution_count": null,
      "outputs": []
    },
    {
      "cell_type": "code",
      "source": [
        "from tensorflow.keras import layers\n",
        "\n",
        "EMBEDDING_DIM = 128\n",
        "MAX_SEQUENCE_LENGTH = 200\n",
        "\n",
        "embedding_layer = layers.Embedding(len(word_index) + 1,\n",
        "                            EMBEDDING_DIM,\n",
        "                            input_length=MAX_SEQUENCE_LENGTH)"
      ],
      "metadata": {
        "id": "l3sWfJONcApf"
      },
      "execution_count": null,
      "outputs": []
    },
    {
      "cell_type": "code",
      "source": [
        "int_sequences_input = keras.Input(shape=(None,), dtype=\"int64\")\n",
        "embedded_sequences = embedding_layer(int_sequences_input)\n",
        "x = layers.Conv1D(128, 5, activation=\"relu\")(embedded_sequences)\n",
        "x = layers.MaxPooling1D(5)(x)\n",
        "x = layers.Conv1D(128, 5, activation=\"relu\")(x)\n",
        "x = layers.MaxPooling1D(5)(x)\n",
        "x = layers.Conv1D(128, 5, activation=\"relu\")(x)\n",
        "x = layers.GlobalMaxPooling1D()(x)\n",
        "x = layers.Dense(128, activation=\"relu\")(x)\n",
        "x = layers.Dropout(0.5)(x)\n",
        "preds = layers.Dense(4, activation=\"softmax\")(x)\n",
        "model = keras.Model(int_sequences_input, preds)\n",
        "model.summary()"
      ],
      "metadata": {
        "colab": {
          "base_uri": "https://localhost:8080/"
        },
        "id": "krojMSZDcFkl",
        "outputId": "d938abcf-f66a-424c-ac4a-f8272c209f20"
      },
      "execution_count": null,
      "outputs": [
        {
          "output_type": "stream",
          "name": "stdout",
          "text": [
            "Model: \"model_4\"\n",
            "_________________________________________________________________\n",
            " Layer (type)                Output Shape              Param #   \n",
            "=================================================================\n",
            " input_6 (InputLayer)        [(None, None)]            0         \n",
            "                                                                 \n",
            " embedding_5 (Embedding)     (None, None, 128)         2560128   \n",
            "                                                                 \n",
            " conv1d_15 (Conv1D)          (None, None, 128)         82048     \n",
            "                                                                 \n",
            " max_pooling1d_10 (MaxPoolin  (None, None, 128)        0         \n",
            " g1D)                                                            \n",
            "                                                                 \n",
            " conv1d_16 (Conv1D)          (None, None, 128)         82048     \n",
            "                                                                 \n",
            " max_pooling1d_11 (MaxPoolin  (None, None, 128)        0         \n",
            " g1D)                                                            \n",
            "                                                                 \n",
            " conv1d_17 (Conv1D)          (None, None, 128)         82048     \n",
            "                                                                 \n",
            " global_max_pooling1d_5 (Glo  (None, 128)              0         \n",
            " balMaxPooling1D)                                                \n",
            "                                                                 \n",
            " dense_9 (Dense)             (None, 128)               16512     \n",
            "                                                                 \n",
            " dropout_5 (Dropout)         (None, 128)               0         \n",
            "                                                                 \n",
            " dense_10 (Dense)            (None, 4)                 516       \n",
            "                                                                 \n",
            "=================================================================\n",
            "Total params: 2,823,300\n",
            "Trainable params: 2,823,300\n",
            "Non-trainable params: 0\n",
            "_________________________________________________________________\n"
          ]
        }
      ]
    },
    {
      "cell_type": "code",
      "source": [
        "x_train = vectorizer(np.array([[s] for s in train.text])).numpy()\n",
        "\n",
        "y_train = np.array(train.label, dtype=np.float)"
      ],
      "metadata": {
        "colab": {
          "base_uri": "https://localhost:8080/"
        },
        "id": "G4lFKekkcQYv",
        "outputId": "3e4877aa-b621-4752-bf32-8fdd847c7ae1"
      },
      "execution_count": null,
      "outputs": [
        {
          "output_type": "stream",
          "name": "stderr",
          "text": [
            "<ipython-input-38-f06a449b71c0>:3: DeprecationWarning: `np.float` is a deprecated alias for the builtin `float`. To silence this warning, use `float` by itself. Doing this will not modify any behavior and is safe. If you specifically wanted the numpy scalar type, use `np.float64` here.\n",
            "Deprecated in NumPy 1.20; for more details and guidance: https://numpy.org/devdocs/release/1.20.0-notes.html#deprecations\n",
            "  y_train = np.array(train.label, dtype=np.float)\n"
          ]
        }
      ]
    },
    {
      "cell_type": "code",
      "source": [
        "model.compile(\n",
        "    loss=\"sparse_categorical_crossentropy\", optimizer=\"rmsprop\", metrics=[\"acc\"]\n",
        ")\n",
        "model.fit(x_train, y_train, batch_size=128, epochs=5, validation_split=0.2)"
      ],
      "metadata": {
        "colab": {
          "base_uri": "https://localhost:8080/"
        },
        "id": "bfjKBxfPcios",
        "outputId": "22c58f16-2a9a-4129-f488-2d5cde94659d"
      },
      "execution_count": null,
      "outputs": [
        {
          "output_type": "stream",
          "name": "stdout",
          "text": [
            "Epoch 1/5\n",
            "139/139 [==============================] - 65s 461ms/step - loss: 0.7461 - acc: 0.6732 - val_loss: 8.6212 - val_acc: 0.0499\n",
            "Epoch 2/5\n",
            "139/139 [==============================] - 65s 465ms/step - loss: 0.2163 - acc: 0.9391 - val_loss: 8.4468 - val_acc: 0.0584\n",
            "Epoch 3/5\n",
            "139/139 [==============================] - 63s 456ms/step - loss: 0.1022 - acc: 0.9731 - val_loss: 7.6949 - val_acc: 0.0575\n",
            "Epoch 4/5\n",
            "139/139 [==============================] - 69s 496ms/step - loss: 0.0641 - acc: 0.9840 - val_loss: 9.4135 - val_acc: 0.0582\n",
            "Epoch 5/5\n",
            "139/139 [==============================] - 63s 451ms/step - loss: 0.0383 - acc: 0.9898 - val_loss: 10.4473 - val_acc: 0.0566\n"
          ]
        },
        {
          "output_type": "execute_result",
          "data": {
            "text/plain": [
              "<keras.callbacks.History at 0x7fdd66c551c0>"
            ]
          },
          "metadata": {},
          "execution_count": 39
        }
      ]
    },
    {
      "cell_type": "code",
      "source": [
        "from sklearn.metrics import *\n",
        "\n",
        "test_x = vectorizer(np.array([[s] for s in test.text])).numpy()\n",
        "\n",
        "preds = model.predict(test_x)\n",
        "pred_labels = [np.argmax(p) for p in preds]\n",
        "\n",
        "y_test = np.array(test.label, dtype=np.float)\n",
        "\n",
        "print('accuracy score: ', accuracy_score(y_test, pred_labels))\n",
        "print(classification_report(y_test, pred_labels))"
      ],
      "metadata": {
        "colab": {
          "base_uri": "https://localhost:8080/"
        },
        "id": "cbbsuL-DiwVH",
        "outputId": "2dbd1a2d-5f87-47d5-d82b-fb60a1192cd5"
      },
      "execution_count": null,
      "outputs": [
        {
          "output_type": "stream",
          "name": "stdout",
          "text": [
            "174/174 [==============================] - 6s 33ms/step\n",
            "accuracy score:  0.767128214349937\n",
            "              precision    recall  f1-score   support\n",
            "\n",
            "         0.0       0.69      0.97      0.81      2091\n",
            "         1.0       0.83      0.93      0.88      1231\n",
            "         2.0       0.00      0.00      0.00      1120\n",
            "         3.0       0.88      0.97      0.92      1119\n",
            "\n",
            "    accuracy                           0.77      5561\n",
            "   macro avg       0.60      0.72      0.65      5561\n",
            "weighted avg       0.62      0.77      0.68      5561\n",
            "\n"
          ]
        },
        {
          "output_type": "stream",
          "name": "stderr",
          "text": [
            "<ipython-input-45-4df227d43279>:8: DeprecationWarning: `np.float` is a deprecated alias for the builtin `float`. To silence this warning, use `float` by itself. Doing this will not modify any behavior and is safe. If you specifically wanted the numpy scalar type, use `np.float64` here.\n",
            "Deprecated in NumPy 1.20; for more details and guidance: https://numpy.org/devdocs/release/1.20.0-notes.html#deprecations\n",
            "  y_test = np.array(test.label, dtype=np.float)\n",
            "/usr/local/lib/python3.9/dist-packages/sklearn/metrics/_classification.py:1344: UndefinedMetricWarning: Precision and F-score are ill-defined and being set to 0.0 in labels with no predicted samples. Use `zero_division` parameter to control this behavior.\n",
            "  _warn_prf(average, modifier, msg_start, len(result))\n",
            "/usr/local/lib/python3.9/dist-packages/sklearn/metrics/_classification.py:1344: UndefinedMetricWarning: Precision and F-score are ill-defined and being set to 0.0 in labels with no predicted samples. Use `zero_division` parameter to control this behavior.\n",
            "  _warn_prf(average, modifier, msg_start, len(result))\n",
            "/usr/local/lib/python3.9/dist-packages/sklearn/metrics/_classification.py:1344: UndefinedMetricWarning: Precision and F-score are ill-defined and being set to 0.0 in labels with no predicted samples. Use `zero_division` parameter to control this behavior.\n",
            "  _warn_prf(average, modifier, msg_start, len(result))\n"
          ]
        }
      ]
    }
  ]
}